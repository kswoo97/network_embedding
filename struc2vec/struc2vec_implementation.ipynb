{
 "cells": [
  {
   "cell_type": "markdown",
   "metadata": {},
   "source": [
    "# Struc2Vec Implementation"
   ]
  },
  {
   "cell_type": "markdown",
   "metadata": {},
   "source": [
    "### Yonsei App. Stat. \n",
    "### Sunwoo Kim"
   ]
  },
  {
   "cell_type": "markdown",
   "metadata": {},
   "source": [
    "KDD 17'에서 발표한 network embedding technique입니다.\n",
    "\n",
    "Graph에서 node의 structural role을 embedding하는 알고리즘입니다.  \n",
    "Numpy를 사용했으며, 본 논문에서 제시한대로 dtw에 약간의 변형을 가했습니다.  \n",
    "$dtw(a,b) = \\frac{max(a,b)}{min(a,b} - 1$  \n",
    "따라서 변형된 dtw 패키지를 사용해야 합니다. (첨부하였음.)"
   ]
  },
  {
   "cell_type": "markdown",
   "metadata": {},
   "source": [
    "## 1. Data&Function preparation "
   ]
  },
  {
   "cell_type": "code",
   "execution_count": 22,
   "metadata": {},
   "outputs": [],
   "source": [
    "import numpy as np\n",
    "import math\n",
    "import pandas as pd\n",
    "import matplotlib.pyplot as plt\n",
    "import os\n",
    "import sys \n",
    "import networkx as nx \n",
    "import time\n",
    "from IPython.display import clear_output\n",
    "import matplotlib.colors as mcolors"
   ]
  },
  {
   "cell_type": "code",
   "execution_count": 2,
   "metadata": {},
   "outputs": [],
   "source": [
    "a = []\n",
    "with open('karate_club.adjlist') as f : \n",
    "    for line in f : \n",
    "        a.append(line.rstrip().split())\n",
    "a = a[3:]\n",
    "adj_array = np.zeros(len(a)*len(a)).reshape(len(a), len(a))\n",
    "\n",
    "for i1 in a : \n",
    "    for i2 in range(len(i1)) : \n",
    "        index1 = int(i1[0]) ; index2 = int(i1[i2])\n",
    "        adj_array[index1, index2] = 1\n",
    "\n",
    "adj_half = adj_array\n",
    "adj_array = adj_array + adj_array.transpose()\n",
    "\n",
    "for i in range(adj_array.shape[0]) : adj_array[i,i] = 0\n",
    "for i in range(adj_half.shape[0]) : adj_half[i,i] = 0\n",
    "\n",
    "## 현재 Edge Index가 adj_array에 할당된 상태입니다\n",
    "\n",
    "target = []\n",
    "with open('karate_label.txt') as f : \n",
    "    for line in f : \n",
    "        target.append(int(line.rstrip().split()[1]))\n",
    "\n",
    "red = np.where(np.array(target) == 1)[0] + 1\n",
    "green = np.where(np.array(target) == 0)[0] + 1\n",
    "\n",
    "## 색깔별 노드의 class를 할당해줍니다."
   ]
  },
  {
   "cell_type": "code",
   "execution_count": 3,
   "metadata": {},
   "outputs": [
    {
     "data": {
      "text/plain": [
       "array([[0., 1., 1., ..., 0., 0., 0.],\n",
       "       [1., 0., 1., ..., 0., 0., 0.],\n",
       "       [1., 1., 0., ..., 0., 0., 0.],\n",
       "       ...,\n",
       "       [0., 0., 0., ..., 0., 1., 1.],\n",
       "       [0., 0., 0., ..., 1., 0., 1.],\n",
       "       [0., 0., 0., ..., 1., 1., 0.]])"
      ]
     },
     "execution_count": 3,
     "metadata": {},
     "output_type": "execute_result"
    }
   ],
   "source": [
    "new_adj = np.hstack([np.vstack([adj_array, np.zeros(shape = (34,34))]), \n",
    "                     np.vstack([np.zeros(shape = (34,34)), adj_array])])\n",
    "new_adj[0,35] = 1 ; new_adj[35,0] = 1\n",
    "new_adj"
   ]
  },
  {
   "cell_type": "code",
   "execution_count": 35,
   "metadata": {},
   "outputs": [],
   "source": [
    "## 시각화를 위한 함수를 정의해줍니다.\n",
    "\n",
    "def visualize_result (embedding_result, title) :\n",
    "    entire_colors = []\n",
    "    for i in colors.get_named_colors_mapping() : \n",
    "        entire_colors.append(colors.get_named_colors_mapping()[i])\n",
    "    plt.figure(figsize = (10, 10))\n",
    "    plt.title(title)\n",
    "    for i in range(68) : \n",
    "        if i <= 33 : \n",
    "            plt.scatter(embedding_result[i,0], embedding_result[i,1], color = entire_colors[2*i])\n",
    "        else : \n",
    "            plt.scatter(embedding_result[i,0], embedding_result[i,1], color = entire_colors[2*(i-34)])\n",
    "    for i, txt in enumerate(np.arange(1,69)):\n",
    "        plt.annotate((i + 1), (embedding_result[:, 0][i], embedding_result[:, 1][i]), size = 15)\n",
    "    plt.show()"
   ]
  },
  {
   "cell_type": "markdown",
   "metadata": {},
   "source": [
    "## 2. Model & Training"
   ]
  },
  {
   "cell_type": "code",
   "execution_count": 4,
   "metadata": {},
   "outputs": [
    {
     "name": "stdout",
     "output_type": "stream",
     "text": [
      "Importing the dtw module. When using in academic works please cite:\n",
      "  T. Giorgino. Computing and Visualizing Dynamic Time Warping Alignments in R: The dtw Package.\n",
      "  J. Stat. Soft., doi:10.18637/jss.v031.i07.\n",
      "\n"
     ]
    }
   ],
   "source": [
    "from sunwoo_struc2vec import *"
   ]
  },
  {
   "cell_type": "code",
   "execution_count": 5,
   "metadata": {},
   "outputs": [],
   "source": [
    "model = sunwoo_struc2vec_training(new_adj)"
   ]
  },
  {
   "cell_type": "code",
   "execution_count": 6,
   "metadata": {},
   "outputs": [
    {
     "name": "stdout",
     "output_type": "stream",
     "text": [
      "Weight Matrix 등 학습 준비가 완료되었습니다!\n"
     ]
    }
   ],
   "source": [
    "model.get_ready(3)"
   ]
  },
  {
   "cell_type": "code",
   "execution_count": 12,
   "metadata": {},
   "outputs": [
    {
     "name": "stdout",
     "output_type": "stream",
     "text": [
      "학습이 시작됩니다! Go~\n",
      "Learning Finished! It took 2.1294915676116943 sec\n"
     ]
    }
   ],
   "source": [
    "model.fit(epochs = 10, \n",
    "         learning_rate = 0.02, \n",
    "         walk_length = 15, \n",
    "         window_size = 3, \n",
    "         hidden_size = 2)"
   ]
  },
  {
   "cell_type": "markdown",
   "metadata": {},
   "source": [
    "## 3. Training Result"
   ]
  },
  {
   "cell_type": "code",
   "execution_count": 36,
   "metadata": {},
   "outputs": [
    {
     "data": {
      "image/png": "[encoded data removed]",
      "text/plain": [
       "<Figure size 720x720 with 1 Axes>"
      ]
     },
     "metadata": {
      "needs_background": "light"
     },
     "output_type": "display_data"
    }
   ],
   "source": [
    "visualize_result(model.h, 'Multiple Graph')"
   ]
  },
  {
   "cell_type": "markdown",
   "metadata": {},
   "source": [
    "논문에서 사용한 synthetic karate 처럼, 구조적으로 노드번호의 간격이 34인 노드들은   \n",
    "완전히 동일한 structural role을 갖고 있습니다.  \n",
    "이들은 위의 그림에서 같은 색으로 표현되어있습니다.  \n",
    "**Struc2Vec이 이 부분을 잘 파악하여 구조적으로 비슷한 노드들을 비슷하게 위치시킨 것을 확인 가능합니다.**"
   ]
  }
 ],
 "metadata": {
  "kernelspec": {
   "display_name": "sunwoo_env",
   "language": "python",
   "name": "sunwoo_env"
  },
  "language_info": {
   "codemirror_mode": {
    "name": "ipython",
    "version": 3
   },
   "file_extension": ".py",
   "mimetype": "text/x-python",
   "name": "python",
   "nbconvert_exporter": "python",
   "pygments_lexer": "ipython3",
   "version": "3.8.5"
  },
  "toc": {
   "base_numbering": 1,
   "nav_menu": {},
   "number_sections": false,
   "sideBar": true,
   "skip_h1_title": false,
   "title_cell": "Table of Contents",
   "title_sidebar": "Contents",
   "toc_cell": false,
   "toc_position": {},
   "toc_section_display": true,
   "toc_window_display": true
  }
 },
 "nbformat": 4,
 "nbformat_minor": 4
}
